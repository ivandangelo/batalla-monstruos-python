{
 "cells": [
  {
   "cell_type": "code",
   "execution_count": 1,
   "metadata": {},
   "outputs": [],
   "source": [
    "%%capture\n",
    "%run juego/Juego.ipynb"
   ]
  },
  {
   "cell_type": "code",
   "execution_count": 2,
   "metadata": {},
   "outputs": [
    {
     "name": "stderr",
     "output_type": "stream",
     "text": [
      ".......\n",
      "----------------------------------------------------------------------\n",
      "Ran 7 tests in 0.006s\n",
      "\n",
      "OK\n"
     ]
    }
   ],
   "source": [
    "import unittest\n",
    "class TestJuego(unittest.TestCase):\n",
    "    \n",
    "    def setUp(self):\n",
    "        self.j = Juego()\n",
    "        self.j.monstruo_uno = Monstruo()\n",
    "        self.j.monstruo_dos = Monstruo()\n",
    "        \n",
    "        \n",
    "    def test_seCreaUnaInstanciaDeJuego(self):\n",
    "        self.assertIsNotNone(Juego())\n",
    "        \n",
    "        \n",
    "    def test_seVerificaSiSeCreaUnPersonajeDesdeElJuego(self):\n",
    "        self.assertIsNotNone(self.j.crear_personaje(\"Ash\"))\n",
    "        \n",
    "    \n",
    "    def test_asignarYComprobarMonstruos(self):\n",
    "        m1 = Monstruo()\n",
    "        m2 = Monstruo()\n",
    "        \n",
    "        self.j.monstruo_uno = m1\n",
    "        self.j.monstruo_dos = m2\n",
    "        \n",
    "        self.assertEqual(m1,self.j.monstruo_uno)\n",
    "        self.assertEqual(m2,self.j.monstruo_dos)\n",
    "        \n",
    "        \n",
    "    def test_ganadorConMonstruosVivos(self):\n",
    "        self.j.monstruo_uno.personaje = Personaje(\"Ash\")\n",
    "        self.assertEqual(self.j.ganador(),\"\")\n",
    "\n",
    "        \n",
    "    def test_ganadorConMonstruoMuerto(self):\n",
    "        self.j.monstruo_uno.personaje = Personaje(\"Ash\")\n",
    "        self.j.monstruo_dos.puntos_de_vida = 0\n",
    "            \n",
    "        self.assertEqual(\"Ash\",self.j.ganador())\n",
    "\n",
    "        \n",
    "    def test_terminoElJuegoConAlgunMonstruoSinVida(self):\n",
    "        self.j.monstruo_uno.personaje = Personaje(\"Ash\")\n",
    "        self.j.monstruo_dos.personaje = Personaje(\"Pedro\")\n",
    "        self.j.monstruo_dos.puntos_de_vida = 0\n",
    "        \n",
    "        self.assertTrue(self.j.termino_el_juego())\n",
    "        \n",
    "        \n",
    "    def test_terminoElJuegoConAlgunMonstruoConVida(self):\n",
    "        self.j.monstruo_uno.personaje = Personaje(\"Ash\")\n",
    "        self.j.monstruo_dos.personaje = Personaje(\"Pedro\")\n",
    "        \n",
    "        self.assertFalse(self.j.termino_el_juego())\n",
    "\n",
    "        \n",
    "    def tearDown(self):\n",
    "        self.j = Juego()\n",
    "\n",
    "        \n",
    "if __name__ == \"__main__\":\n",
    "    unittest.main(argv=['first-arg-is-ignored'], exit=False)"
   ]
  }
 ],
 "metadata": {
  "kernelspec": {
   "display_name": "Python 3",
   "language": "python",
   "name": "python3"
  },
  "language_info": {
   "codemirror_mode": {
    "name": "ipython",
    "version": 3
   },
   "file_extension": ".py",
   "mimetype": "text/x-python",
   "name": "python",
   "nbconvert_exporter": "python",
   "pygments_lexer": "ipython3",
   "version": "3.5.2"
  }
 },
 "nbformat": 4,
 "nbformat_minor": 2
}
