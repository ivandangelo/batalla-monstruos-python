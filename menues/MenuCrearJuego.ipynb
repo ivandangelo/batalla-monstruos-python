{
 "cells": [
  {
   "cell_type": "code",
   "execution_count": 1,
   "metadata": {},
   "outputs": [],
   "source": [
    "%%capture\n",
    "%run menues/MenuCrearMonstruo.ipynb"
   ]
  },
  {
   "cell_type": "code",
   "execution_count": 2,
   "metadata": {},
   "outputs": [],
   "source": [
    "class MenuCrearJuego:\n",
    "    \"\"\"docstring for MenuCrearJuego\"\"\"\n",
    "    def __init__(self, juego):\n",
    "        self.juego = juego\n",
    "\n",
    "\n",
    "    def mostrar_menu(self):\n",
    "\n",
    "        self.juego.monstruo_uno = Monstruo()\n",
    "        nombre = input(\"Ingrese el nombre del jugador 1: \")\n",
    "        self.juego.monstruo_uno.personaje = self.juego.crear_personaje(nombre)\n",
    "        menu = MenuCrearMonstruo(self.juego.monstruo_uno)\n",
    "        menu.mostrar_menu()\n",
    "\n",
    "        self.juego.monstruo_dos = Monstruo()\n",
    "        nombre = input(\"Ingrese el nombre del jugador 2: \")\n",
    "        self.juego.monstruo_dos.personaje = self.juego.crear_personaje(nombre)\n",
    "        menu = MenuCrearMonstruo(self.juego.monstruo_dos)\n",
    "        menu.mostrar_menu()\n",
    "        \n",
    "        self.juego.menu_ataque()"
   ]
  }
 ],
 "metadata": {
  "kernelspec": {
   "display_name": "Python 3",
   "language": "python",
   "name": "python3"
  },
  "language_info": {
   "codemirror_mode": {
    "name": "ipython",
    "version": 3
   },
   "file_extension": ".py",
   "mimetype": "text/x-python",
   "name": "python",
   "nbconvert_exporter": "python",
   "pygments_lexer": "ipython3",
   "version": "3.7.0"
  }
 },
 "nbformat": 4,
 "nbformat_minor": 2
}
