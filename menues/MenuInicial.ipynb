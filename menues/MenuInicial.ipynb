{
 "cells": [
  {
   "cell_type": "code",
   "execution_count": 1,
   "metadata": {},
   "outputs": [],
   "source": [
    "import os\n",
    "import os.path"
   ]
  },
  {
   "cell_type": "code",
   "execution_count": 2,
   "metadata": {},
   "outputs": [],
   "source": [
    "class MenuInicial ():\n",
    "    \n",
    "    \"\"\"\n",
    "    Se encarga de mostrar el menu para crear un nuevo juego.\n",
    "    \n",
    "    \"\"\"\n",
    "    \n",
    "    def mostrar_menu(self):\n",
    "        \n",
    "        \"\"\"\n",
    "        Devuelve la opcion elegida por el usuario\n",
    "    \n",
    "        \"\"\"\n",
    "        opcion = 0\n",
    "        \n",
    "        opciones_con_partida_guardada = [1,2,3]\n",
    "        opciones_sin_partida_guardada = [1,3]\n",
    "        opciones = opciones_con_partida_guardada if os.path.isfile('Partida.pkl') else opciones_sin_partida_guardada\n",
    "        while opcion not in opciones:\n",
    "            try:\n",
    "                opcion = int(input(\"1- Crear Juego\\n\"+\n",
    "                                   \"2- Cargar Juego\\n\"+\n",
    "                                   \"3- Salir\\n\"))\n",
    "                if opcion not in opciones_con_partida_guardada:\n",
    "                    print(\"No es una opcion valida\")\n",
    "                elif opcion == 2 and opcion not in opciones:\n",
    "                    print(\"No hay ninguna partida guardada para cargar\")\n",
    "            except ValueError:\n",
    "                    print(\"No es una opcion valida\")\n",
    "        return opcion"
   ]
  },
  {
   "cell_type": "code",
   "execution_count": null,
   "metadata": {},
   "outputs": [],
   "source": []
  }
 ],
 "metadata": {
  "kernelspec": {
   "display_name": "Python 3",
   "language": "python",
   "name": "python3"
  },
  "language_info": {
   "codemirror_mode": {
    "name": "ipython",
    "version": 3
   },
   "file_extension": ".py",
   "mimetype": "text/x-python",
   "name": "python",
   "nbconvert_exporter": "python",
   "pygments_lexer": "ipython3",
   "version": "3.7.0"
  }
 },
 "nbformat": 4,
 "nbformat_minor": 2
}
