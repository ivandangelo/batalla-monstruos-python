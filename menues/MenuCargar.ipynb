{
 "cells": [
  {
   "cell_type": "code",
   "execution_count": null,
   "metadata": {},
   "outputs": [],
   "source": [
    "%%capture\n",
    "%run persistencia/PersistenciaPickle.ipynb"
   ]
  },
  {
   "cell_type": "code",
   "execution_count": null,
   "metadata": {},
   "outputs": [],
   "source": [
    "class MenuCargar ():\n",
    "    \n",
    "    def __init__(self, juego):\n",
    "        self.juego = juego\n",
    "        self.pickler = PersistenciaPickle()\n",
    "        \n",
    "    def mostrar_menu(self):\n",
    "        opcion = 0\n",
    "        while opcion not in [1, 2]:\n",
    "            opcion = int(input(\"1- Cargar Partida\\n\"+\n",
    "                           \"2- Volver al menú anterior\\n\"))\n",
    "\n",
    "            if opcion not in [1, 2]:\n",
    "                print(\"No es una opcion valida\")\n",
    "        return self.persistir(opcion)\n",
    "    \n",
    "    def persistir(self, opcion):\n",
    "        if opcion == 1:\n",
    "            self.cargar_partida() \n",
    "        return self.juego\n",
    "        \n",
    "    def cargar_partida(self):\n",
    "        juego_cargado = self.pickler.cargar_partida()\n",
    "        if juego_cargado:\n",
    "            self.juego = juego_cargado\n",
    "    "
   ]
  }
 ],
 "metadata": {
  "kernelspec": {
   "display_name": "Python 3",
   "language": "python",
   "name": "python3"
  },
  "language_info": {
   "codemirror_mode": {
    "name": "ipython",
    "version": 3
   },
   "file_extension": ".py",
   "mimetype": "text/x-python",
   "name": "python",
   "nbconvert_exporter": "python",
   "pygments_lexer": "ipython3",
   "version": "3.7.0"
  }
 },
 "nbformat": 4,
 "nbformat_minor": 2
}
