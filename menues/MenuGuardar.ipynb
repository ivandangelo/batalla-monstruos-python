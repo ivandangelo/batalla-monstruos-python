{
 "cells": [
  {
   "cell_type": "code",
   "execution_count": null,
   "metadata": {},
   "outputs": [],
   "source": [
    "%%capture\n",
    "%run persistencia/PersistenciaPickle.ipynb"
   ]
  },
  {
   "cell_type": "code",
   "execution_count": null,
   "metadata": {},
   "outputs": [],
   "source": [
    "class MenuGuardar ():\n",
    "    \n",
    "    def __init__(self, juego):\n",
    "        self.juego = juego\n",
    "        self.pickler = PersistenciaPickle()\n",
    "        \n",
    "    def mostrar_menu(self):\n",
    "        opcion = 0\n",
    "        while opcion not in [1, 2]:\n",
    "            opcion = int(input(\"1- Guardar Partida\\n\"+\n",
    "                           \"2- Volver al menú anterior\\n\"))\n",
    "\n",
    "            if opcion not in [1, 2]:\n",
    "                print(\"No es una opcion valida\")\n",
    "        self.persistir(opcion)\n",
    "    \n",
    "    def persistir(self, opcion):\n",
    "        if opcion == 1:\n",
    "            self.guardar_partida()\n",
    "        \n",
    "    def guardar_partida(self):\n",
    "        self.pickler.guardar_partida(self.juego)\n",
    "    "
   ]
  }
 ],
 "metadata": {
  "kernelspec": {
   "display_name": "Python 3",
   "language": "python",
   "name": "python3"
  },
  "language_info": {
   "codemirror_mode": {
    "name": "ipython",
    "version": 3
   },
   "file_extension": ".py",
   "mimetype": "text/x-python",
   "name": "python",
   "nbconvert_exporter": "python",
   "pygments_lexer": "ipython3",
   "version": "3.7.0"
  }
 },
 "nbformat": 4,
 "nbformat_minor": 2
}
