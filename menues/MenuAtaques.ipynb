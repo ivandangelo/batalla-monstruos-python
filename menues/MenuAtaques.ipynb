{
 "cells": [
  {
   "cell_type": "code",
   "execution_count": 1,
   "metadata": {},
   "outputs": [],
   "source": [
    "%%capture\n",
    "%run menues/MenuGuardar.ipynb"
   ]
  },
  {
   "cell_type": "code",
   "execution_count": 2,
   "metadata": {},
   "outputs": [],
   "source": [
    "class MenuAtaques:\n",
    "    \n",
    "    MENSAJE_DANIO_RECIBIDO = \"El monstruo enemigo recibio {daño} puntos de daño.\"\n",
    "    MENSAJE_VIDA_ENEMIGO = \"El monstruo enemigo posee {puntos_de_vida} puntos de vida\"\n",
    "\n",
    "    def __init__(self, turnoJugadorUno, juego, monstruo_atacante, monstruo_enemigo):\n",
    "        self.juego = juego\n",
    "        self.turnoJugadorUno = turnoJugadorUno\n",
    "        self.monstruo_atacante = monstruo_atacante\n",
    "        self.monstruo_enemigo = monstruo_enemigo\n",
    "        \n",
    "\n",
    "    def mostrar_menu(self):\n",
    "        opcion = None\n",
    "        while opcion == None:\n",
    "            try:\n",
    "                print(\"\\nTurno del jugador {numero_jugador}\".format(numero_jugador = \"1\" if self.turnoJugadorUno else \"2\"))\n",
    "                opcion = int(input(\"1- Ataque simple tipo: \" + self.monstruo_atacante.tipologia_principal.name + \"\\n\" +\n",
    "                               \"2- Ataque especial tipo: \" + self.monstruo_atacante.tipologia_principal.name + \"\\n\" +\n",
    "                               \"3- Ataque simple tipo: \" + self.monstruo_atacante.tipologia_secundaria.name + \"\\n\" +\n",
    "                               \"4- Ataque especial tipo: \" + self.monstruo_atacante.tipologia_secundaria.name + \"\\n\"))\n",
    "\n",
    "                if opcion not in [1, 2, 3, 4]:\n",
    "                    print(\"No es una opcion valida\")\n",
    "                    opcion = None\n",
    "                elif (opcion in [2,4] and self.monstruo_atacante.contador_ataques_especiales == 4):\n",
    "                    print(\"Supero limite de ataques especiales, intente con otra opcion\")\n",
    "                    opcion = None\n",
    "                else:\n",
    "                    self.realizar_ataque(opcion)\n",
    "                    self.preguntar_guarda_partida()\n",
    "            except ValueError:\n",
    "                print(\"No es una opcion valida\")\n",
    "\n",
    "\n",
    "    def ataque_especial(self, tipologia):\n",
    "        print(self.MENSAJE_DANIO_RECIBIDO.format(daño = self.monstruo_atacante.ataque_especial(tipologia, self.monstruo_enemigo)))\n",
    "        print(self.MENSAJE_VIDA_ENEMIGO.format(puntos_de_vida = int(self.monstruo_enemigo.puntos_de_vida)))\n",
    "        \n",
    "\n",
    "    def ataque_simple(self):\n",
    "        print(self.MENSAJE_DANIO_RECIBIDO.format(daño = self.monstruo_atacante.ataque_simple(self.monstruo_enemigo)))\n",
    "        print(self.MENSAJE_VIDA_ENEMIGO.format(puntos_de_vida = int(self.monstruo_enemigo.puntos_de_vida)))\n",
    "\n",
    "    def realizar_ataque(self, opcion):\n",
    "        if opcion == 1 or opcion == 3:\n",
    "            self.ataque_simple()\n",
    "        elif opcion == 2:\n",
    "            self.ataque_especial(self.monstruo_atacante.tipologia_principal)\n",
    "        else:\n",
    "            self.ataque_especial(self.monstruo_atacante.tipologia_secundaria)\n",
    "            \n",
    "    def preguntar_guarda_partida(self):\n",
    "        opcion = input(\"¿Desea guardar la partida? (S/N)\")\n",
    "        if opcion.upper() == \"S\":\n",
    "            self.guardar_partida()\n",
    "            \n",
    "        elif(opcion.upper() != \"N\"):\n",
    "            print(\"No es una opcion valida, intente nuevamente\")\n",
    "            self.preguntar_guarda_partida()\n",
    "            \n",
    "    def guardar_partida(self):\n",
    "        MenuGuardar(self.juego).mostrar_menu()"
   ]
  },
  {
   "cell_type": "code",
   "execution_count": null,
   "metadata": {},
   "outputs": [],
   "source": []
  }
 ],
 "metadata": {
  "kernelspec": {
   "display_name": "Python 3",
   "language": "python",
   "name": "python3"
  },
  "language_info": {
   "codemirror_mode": {
    "name": "ipython",
    "version": 3
   },
   "file_extension": ".py",
   "mimetype": "text/x-python",
   "name": "python",
   "nbconvert_exporter": "python",
   "pygments_lexer": "ipython3",
   "version": "3.7.0"
  }
 },
 "nbformat": 4,
 "nbformat_minor": 2
}
