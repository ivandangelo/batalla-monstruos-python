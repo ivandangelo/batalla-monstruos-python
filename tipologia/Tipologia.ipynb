{
 "cells": [
  {
   "cell_type": "code",
   "execution_count": 1,
   "metadata": {},
   "outputs": [],
   "source": [
    "from enum import Enum\n",
    "\n",
    "\n",
    "class Tipologia(Enum):\n",
    "    \n",
    "    \"\"\"Se encarga de la logica de los elementos\n",
    "    \n",
    "    Contiene una tupla para cada elemento, x=(x0,x1) donde x es el elemento, x0\n",
    "    el elemento contra el cual x es fuerte y x1 el elemento contra el cual es devil.\n",
    "    \n",
    "    \"\"\"\n",
    "    \n",
    "            #fuerteataque,#fuertedefensa\n",
    "    AGUA = [\"FUEGO\",\"FUEGO\"]\n",
    "    AIRE = [\"AGUA\",\"TIERRA\"]\n",
    "    TIERRA = [\"AIRE\",\"AGUA\"]\n",
    "    FUEGO = [\"TIERRA\",\"AIRE\"]"
   ]
  },
  {
   "cell_type": "code",
   "execution_count": null,
   "metadata": {},
   "outputs": [],
   "source": []
  }
 ],
 "metadata": {
  "kernelspec": {
   "display_name": "Python 3",
   "language": "python",
   "name": "python3"
  },
  "language_info": {
   "codemirror_mode": {
    "name": "ipython",
    "version": 3
   },
   "file_extension": ".py",
   "mimetype": "text/x-python",
   "name": "python",
   "nbconvert_exporter": "python",
   "pygments_lexer": "ipython3",
   "version": "3.7.0"
  }
 },
 "nbformat": 4,
 "nbformat_minor": 2
}
