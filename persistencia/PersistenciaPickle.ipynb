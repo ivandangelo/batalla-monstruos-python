{
 "cells": [
  {
   "cell_type": "code",
   "execution_count": null,
   "metadata": {},
   "outputs": [],
   "source": [
    "import pickle\n",
    "\n",
    "class PersistenciaPickle ():\n",
    "    \n",
    "    def guardar_partida(self, juego):\n",
    "        try:\n",
    "            with open(\"Partida.pkl\", \"wb\") as f:\n",
    "                pickle.dump(juego, f)\n",
    "        except:\n",
    "            print(\"Ocurrió un error guardando la partida\")\n",
    "        else:\n",
    "            print(\"Partida guardada exitosamente.\")\n",
    "            \n",
    "    def cargar_partida(self):\n",
    "        juego: any\n",
    "        try:\n",
    "            with open(\"Partida.pkl\", \"rb\") as f:\n",
    "                juego = pickle.load(f)                \n",
    "        except:\n",
    "            print(\"Ocurrió un error cargando la partida\")\n",
    "        else:\n",
    "            print(\"Partida cargada exitosamente.\")\n",
    "            return juego"
   ]
  }
 ],
 "metadata": {
  "kernelspec": {
   "display_name": "Python 3",
   "language": "python",
   "name": "python3"
  },
  "language_info": {
   "codemirror_mode": {
    "name": "ipython",
    "version": 3
   },
   "file_extension": ".py",
   "mimetype": "text/x-python",
   "name": "python",
   "nbconvert_exporter": "python",
   "pygments_lexer": "ipython3",
   "version": "3.7.0"
  }
 },
 "nbformat": 4,
 "nbformat_minor": 2
}
